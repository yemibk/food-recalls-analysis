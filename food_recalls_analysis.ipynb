{
 "cells": [
  {
   "cell_type": "code",
   "execution_count": 1,
   "metadata": {},
   "outputs": [],
   "source": [
    "import pandas as pd\n",
    "import datetime as dt\n",
    "import numpy as np\n",
    "%config IPCompleter.greedy=True\n",
    "\n",
    "import helper"
   ]
  },
  {
   "cell_type": "markdown",
   "metadata": {},
   "source": [
    "### A few ideas that come to mind:\n",
    "* Change the Date Opened column entries to datetime objects\n",
    "* Make the entries of the recall number integers, be smart about how to come up with unique integers\n",
    "* Make the entries of the Pounds Recalled column integers\n",
    "* Make the entries of the Recall Class column more descriptive String objects\n",
    "* Make a table where I have the recall reasons all as one df and by year"
   ]
  },
  {
   "cell_type": "markdown",
   "metadata": {},
   "source": [
    "## I. Load the data"
   ]
  },
  {
   "cell_type": "markdown",
   "metadata": {},
   "source": [
    "   "
   ]
  },
  {
   "cell_type": "code",
   "execution_count": 2,
   "metadata": {},
   "outputs": [],
   "source": [
    "df_dict = {}\n",
    "root = 'datasets'\n",
    "filenames = ['recalls_2005.csv', 'recalls_2006.csv', 'recalls_2007.csv', 'recalls_2008.csv', 'recalls_2009.csv', 'recalls_2010.csv', 'recalls_2011.csv', 'recalls_2012.csv', 'recalls_2013.csv', 'recalls_2014.csv', 'recalls_2015.csv', 'recalls_2016.csv', 'recalls_2017.csv', 'recalls_2018.csv']\n",
    "\n",
    "# Define a function to load all the files into dataframes and place them into a dictionary: the key is the year and the value the data as a pandas dataframe\n",
    "def load_data(filenames):\n",
    "    for filename in filenames:\n",
    "        key = filename.split('.')[0].split('_')[1]\n",
    "        year = int(key)\n",
    "        df_dict[year] = pd.read_csv(root + '/' + filename)"
   ]
  },
  {
   "cell_type": "code",
   "execution_count": 3,
   "metadata": {},
   "outputs": [],
   "source": [
    "load_data(filenames)"
   ]
  },
  {
   "cell_type": "markdown",
   "metadata": {},
   "source": [
    "Let's take a peek at a sample content of the data dictionary just created."
   ]
  },
  {
   "cell_type": "code",
   "execution_count": 4,
   "metadata": {},
   "outputs": [
    {
     "name": "stdout",
     "output_type": "stream",
     "text": [
      "\n",
      "\n",
      "These are the first 5 rows of the recalls data of 2016:\n",
      "\n"
     ]
    },
    {
     "data": {
      "text/html": [
       "<div>\n",
       "<style scoped>\n",
       "    .dataframe tbody tr th:only-of-type {\n",
       "        vertical-align: middle;\n",
       "    }\n",
       "\n",
       "    .dataframe tbody tr th {\n",
       "        vertical-align: top;\n",
       "    }\n",
       "\n",
       "    .dataframe thead th {\n",
       "        text-align: right;\n",
       "    }\n",
       "</style>\n",
       "<table border=\"1\" class=\"dataframe\">\n",
       "  <thead>\n",
       "    <tr style=\"text-align: right;\">\n",
       "      <th></th>\n",
       "      <th>Recall Number</th>\n",
       "      <th>Open Date</th>\n",
       "      <th>Class</th>\n",
       "      <th>Pounds Recalled</th>\n",
       "      <th>Product</th>\n",
       "      <th>Problem Type</th>\n",
       "    </tr>\n",
       "  </thead>\n",
       "  <tbody>\n",
       "    <tr>\n",
       "      <th>0</th>\n",
       "      <td>001-2016</td>\n",
       "      <td>4-Jan-16</td>\n",
       "      <td>2</td>\n",
       "      <td>89,568</td>\n",
       "      <td>Beef products</td>\n",
       "      <td>Extraneous Material</td>\n",
       "    </tr>\n",
       "    <tr>\n",
       "      <th>1</th>\n",
       "      <td>002-2016</td>\n",
       "      <td>5-Jan-16</td>\n",
       "      <td>1</td>\n",
       "      <td>14</td>\n",
       "      <td>Cajun Hickory Smoked Pork Tasso</td>\n",
       "      <td>Listeria monocytogenes</td>\n",
       "    </tr>\n",
       "    <tr>\n",
       "      <th>2</th>\n",
       "      <td>003-2016</td>\n",
       "      <td>5-Jan-16</td>\n",
       "      <td>1</td>\n",
       "      <td>1,125</td>\n",
       "      <td>Chicken products</td>\n",
       "      <td>Other</td>\n",
       "    </tr>\n",
       "    <tr>\n",
       "      <th>3</th>\n",
       "      <td>004-2016</td>\n",
       "      <td>6-Jan-16</td>\n",
       "      <td>1</td>\n",
       "      <td>7,687</td>\n",
       "      <td>Beef, Pork, and Chicken Products</td>\n",
       "      <td>Other</td>\n",
       "    </tr>\n",
       "    <tr>\n",
       "      <th>4</th>\n",
       "      <td>005-2016</td>\n",
       "      <td>8-Jan-16</td>\n",
       "      <td>2</td>\n",
       "      <td>4,040</td>\n",
       "      <td>Pork Sausage</td>\n",
       "      <td>Undeclared Substance</td>\n",
       "    </tr>\n",
       "  </tbody>\n",
       "</table>\n",
       "</div>"
      ],
      "text/plain": [
       "  Recall Number Open Date  Class Pounds Recalled  \\\n",
       "0      001-2016  4-Jan-16      2          89,568   \n",
       "1      002-2016  5-Jan-16      1              14   \n",
       "2      003-2016  5-Jan-16      1           1,125   \n",
       "3      004-2016  6-Jan-16      1           7,687   \n",
       "4      005-2016  8-Jan-16      2           4,040   \n",
       "\n",
       "                            Product            Problem Type  \n",
       "0                     Beef products     Extraneous Material  \n",
       "1   Cajun Hickory Smoked Pork Tasso  Listeria monocytogenes  \n",
       "2                  Chicken products                   Other  \n",
       "3  Beef, Pork, and Chicken Products                   Other  \n",
       "4                      Pork Sausage    Undeclared Substance  "
      ]
     },
     "execution_count": 4,
     "metadata": {},
     "output_type": "execute_result"
    }
   ],
   "source": [
    "# Get the second item in the dictionary\n",
    "recalls_ls = list(df_dict.items())\n",
    "# Get a random index of the items in the dictionary\n",
    "idx = np.random.randint(len(recalls_ls))\n",
    "# Get one of the recalls data in the dictionary\n",
    "year, df = recalls_ls[idx]\n",
    "num = 5\n",
    "print('\\n\\nThese are the first {} rows of the recalls data of {}:\\n'.format(num, year))\n",
    "df.head(num)"
   ]
  },
  {
   "cell_type": "markdown",
   "metadata": {},
   "source": [
    "The data was correctly loaded and correctly indexed in the dictionary."
   ]
  },
  {
   "cell_type": "markdown",
   "metadata": {},
   "source": [
    "## II. Investigate the data"
   ]
  },
  {
   "cell_type": "markdown",
   "metadata": {},
   "source": [
    "### 1. Investigate column names and positions"
   ]
  },
  {
   "cell_type": "markdown",
   "metadata": {},
   "source": [
    "As we were taking a peek at the data in loaded we could see some inconsistencies between column names. Let's investigate this a bit further."
   ]
  },
  {
   "cell_type": "code",
   "execution_count": 5,
   "metadata": {},
   "outputs": [
    {
     "data": {
      "text/html": [
       "<div>\n",
       "<style scoped>\n",
       "    .dataframe tbody tr th:only-of-type {\n",
       "        vertical-align: middle;\n",
       "    }\n",
       "\n",
       "    .dataframe tbody tr th {\n",
       "        vertical-align: top;\n",
       "    }\n",
       "\n",
       "    .dataframe thead th {\n",
       "        text-align: right;\n",
       "    }\n",
       "</style>\n",
       "<table border=\"1\" class=\"dataframe\">\n",
       "  <thead>\n",
       "    <tr style=\"text-align: right;\">\n",
       "      <th></th>\n",
       "      <th>0</th>\n",
       "      <th>1</th>\n",
       "      <th>2</th>\n",
       "      <th>3</th>\n",
       "      <th>4</th>\n",
       "      <th>5</th>\n",
       "    </tr>\n",
       "  </thead>\n",
       "  <tbody>\n",
       "    <tr>\n",
       "      <th>2005</th>\n",
       "      <td>Date Opened</td>\n",
       "      <td>Recall Number</td>\n",
       "      <td>Recall Class</td>\n",
       "      <td>Product</td>\n",
       "      <td>Reason for Recall</td>\n",
       "      <td>Pounds Recalled</td>\n",
       "    </tr>\n",
       "    <tr>\n",
       "      <th>2006</th>\n",
       "      <td>Date Opened</td>\n",
       "      <td>Recall Number</td>\n",
       "      <td>Recall Class</td>\n",
       "      <td>Product</td>\n",
       "      <td>Reason for Recall</td>\n",
       "      <td>Pounds Recalled</td>\n",
       "    </tr>\n",
       "    <tr>\n",
       "      <th>2007</th>\n",
       "      <td>Date Opened</td>\n",
       "      <td>Recall Number</td>\n",
       "      <td>Recall Class</td>\n",
       "      <td>Product</td>\n",
       "      <td>Reason for Recall</td>\n",
       "      <td>Pounds Recalled</td>\n",
       "    </tr>\n",
       "    <tr>\n",
       "      <th>2008</th>\n",
       "      <td>Date Opened</td>\n",
       "      <td>Recall Number</td>\n",
       "      <td>Recall Class</td>\n",
       "      <td>Product</td>\n",
       "      <td>Reason for Recall</td>\n",
       "      <td>Pounds Recalled</td>\n",
       "    </tr>\n",
       "    <tr>\n",
       "      <th>2009</th>\n",
       "      <td>Date Opened</td>\n",
       "      <td>Recall Number</td>\n",
       "      <td>Recall Class</td>\n",
       "      <td>Product</td>\n",
       "      <td>Reason for Recall</td>\n",
       "      <td>Pounds Recalled</td>\n",
       "    </tr>\n",
       "    <tr>\n",
       "      <th>2010</th>\n",
       "      <td>Recall Date</td>\n",
       "      <td>Recall Number</td>\n",
       "      <td>Recall Class</td>\n",
       "      <td>Product</td>\n",
       "      <td>Reason for Recall</td>\n",
       "      <td>Pounds Recalled</td>\n",
       "    </tr>\n",
       "    <tr>\n",
       "      <th>2011</th>\n",
       "      <td>Recall Date</td>\n",
       "      <td>Recall Number</td>\n",
       "      <td>Recall Class</td>\n",
       "      <td>Product</td>\n",
       "      <td>Reason for Recall</td>\n",
       "      <td>Pounds Recalled</td>\n",
       "    </tr>\n",
       "    <tr>\n",
       "      <th>2012</th>\n",
       "      <td>Recall Date</td>\n",
       "      <td>Recall Number</td>\n",
       "      <td>Recall Class</td>\n",
       "      <td>Product</td>\n",
       "      <td>Reason for Recall</td>\n",
       "      <td>Pounds Recalled</td>\n",
       "    </tr>\n",
       "    <tr>\n",
       "      <th>2013</th>\n",
       "      <td>Recall Date</td>\n",
       "      <td>Recall Number</td>\n",
       "      <td>Recall Class</td>\n",
       "      <td>Product</td>\n",
       "      <td>Reason for Recall</td>\n",
       "      <td>Pounds Recalled</td>\n",
       "    </tr>\n",
       "    <tr>\n",
       "      <th>2014</th>\n",
       "      <td>Recall Date</td>\n",
       "      <td>Recall Number</td>\n",
       "      <td>Recall Class</td>\n",
       "      <td>Product</td>\n",
       "      <td>Reason for Recall</td>\n",
       "      <td>Pounds Recalled</td>\n",
       "    </tr>\n",
       "    <tr>\n",
       "      <th>2015</th>\n",
       "      <td>Recall Number</td>\n",
       "      <td>Date Opened</td>\n",
       "      <td>Recall Class</td>\n",
       "      <td>Pounds Recalled</td>\n",
       "      <td>Product</td>\n",
       "      <td>Problem Type</td>\n",
       "    </tr>\n",
       "    <tr>\n",
       "      <th>2016</th>\n",
       "      <td>Recall Number</td>\n",
       "      <td>Open Date</td>\n",
       "      <td>Class</td>\n",
       "      <td>Pounds Recalled</td>\n",
       "      <td>Product</td>\n",
       "      <td>Problem Type</td>\n",
       "    </tr>\n",
       "    <tr>\n",
       "      <th>2017</th>\n",
       "      <td>Recall Number</td>\n",
       "      <td>Open Date</td>\n",
       "      <td>Class</td>\n",
       "      <td>Pounds Recalled</td>\n",
       "      <td>Product</td>\n",
       "      <td>Problem Type</td>\n",
       "    </tr>\n",
       "    <tr>\n",
       "      <th>2018</th>\n",
       "      <td>Recall Number</td>\n",
       "      <td>Open Date</td>\n",
       "      <td>Class</td>\n",
       "      <td>Pounds Recalled</td>\n",
       "      <td>Product</td>\n",
       "      <td>Problem Type</td>\n",
       "    </tr>\n",
       "  </tbody>\n",
       "</table>\n",
       "</div>"
      ],
      "text/plain": [
       "                  0              1             2                3  \\\n",
       "2005    Date Opened  Recall Number  Recall Class          Product   \n",
       "2006    Date Opened  Recall Number  Recall Class          Product   \n",
       "2007    Date Opened  Recall Number  Recall Class          Product   \n",
       "2008    Date Opened  Recall Number  Recall Class          Product   \n",
       "2009    Date Opened  Recall Number  Recall Class          Product   \n",
       "2010    Recall Date  Recall Number  Recall Class          Product   \n",
       "2011    Recall Date  Recall Number  Recall Class          Product   \n",
       "2012    Recall Date  Recall Number  Recall Class          Product   \n",
       "2013    Recall Date  Recall Number  Recall Class          Product   \n",
       "2014    Recall Date  Recall Number  Recall Class          Product   \n",
       "2015  Recall Number    Date Opened  Recall Class  Pounds Recalled   \n",
       "2016  Recall Number      Open Date         Class  Pounds Recalled   \n",
       "2017  Recall Number      Open Date         Class  Pounds Recalled   \n",
       "2018  Recall Number      Open Date         Class  Pounds Recalled   \n",
       "\n",
       "                      4                5  \n",
       "2005  Reason for Recall  Pounds Recalled  \n",
       "2006  Reason for Recall  Pounds Recalled  \n",
       "2007  Reason for Recall  Pounds Recalled  \n",
       "2008  Reason for Recall  Pounds Recalled  \n",
       "2009  Reason for Recall  Pounds Recalled  \n",
       "2010  Reason for Recall  Pounds Recalled  \n",
       "2011  Reason for Recall  Pounds Recalled  \n",
       "2012  Reason for Recall  Pounds Recalled  \n",
       "2013  Reason for Recall  Pounds Recalled  \n",
       "2014  Reason for Recall  Pounds Recalled  \n",
       "2015            Product     Problem Type  \n",
       "2016            Product     Problem Type  \n",
       "2017            Product     Problem Type  \n",
       "2018            Product     Problem Type  "
      ]
     },
     "execution_count": 5,
     "metadata": {},
     "output_type": "execute_result"
    }
   ],
   "source": [
    "cols_names_by_df = helper.display_columns_by_df(df_dict)\n",
    "cols_names_by_df"
   ]
  },
  {
   "cell_type": "code",
   "execution_count": 6,
   "metadata": {},
   "outputs": [
    {
     "data": {
      "text/plain": [
       "{1: [2005, 2006, 2007, 2008, 2009],\n",
       " 2: [2010, 2011, 2012, 2013, 2014],\n",
       " 3: [2015],\n",
       " 4: [2016, 2017, 2018]}"
      ]
     },
     "execution_count": 6,
     "metadata": {},
     "output_type": "execute_result"
    }
   ],
   "source": [
    "col_names_groups = helper.extract_col_names_groups(df_dict)\n",
    "col_names_groups"
   ]
  },
  {
   "cell_type": "markdown",
   "metadata": {},
   "source": [
    "There appears to be 4 groups in the dataframes when it comes to column naming. The first group with uniform names and position across the columns are the dataframes for the year 2005 through 2009.\n",
    "The second group covers years 2010 to 2014. \n",
    "The third group is the year 2015.\n",
    "And the fourth group goes from 2015 to 2018."
   ]
  },
  {
   "cell_type": "markdown",
   "metadata": {},
   "source": [
    "Next, let's see how the naming of columns differ within those groups."
   ]
  },
  {
   "cell_type": "code",
   "execution_count": 7,
   "metadata": {},
   "outputs": [
    {
     "data": {
      "text/plain": [
       "[2008, 2010, 2015, 2016]"
      ]
     },
     "execution_count": 7,
     "metadata": {},
     "output_type": "execute_result"
    }
   ],
   "source": [
    "# Get randomly a year from each of the 4 groups of column naming\n",
    "years = helper.get_samples_from_groups(col_names_groups)\n",
    "years"
   ]
  },
  {
   "cell_type": "code",
   "execution_count": 8,
   "metadata": {},
   "outputs": [
    {
     "data": {
      "text/html": [
       "<div>\n",
       "<style scoped>\n",
       "    .dataframe tbody tr th:only-of-type {\n",
       "        vertical-align: middle;\n",
       "    }\n",
       "\n",
       "    .dataframe tbody tr th {\n",
       "        vertical-align: top;\n",
       "    }\n",
       "\n",
       "    .dataframe thead th {\n",
       "        text-align: right;\n",
       "    }\n",
       "</style>\n",
       "<table border=\"1\" class=\"dataframe\">\n",
       "  <thead>\n",
       "    <tr style=\"text-align: right;\">\n",
       "      <th></th>\n",
       "      <th>Col 0</th>\n",
       "      <th>Col 1</th>\n",
       "      <th>Col 2</th>\n",
       "      <th>Col 3</th>\n",
       "      <th>Col 4</th>\n",
       "      <th>Col 5</th>\n",
       "    </tr>\n",
       "  </thead>\n",
       "  <tbody>\n",
       "    <tr>\n",
       "      <th>Group 1</th>\n",
       "      <td>Date Opened</td>\n",
       "      <td>Recall Number</td>\n",
       "      <td>Recall Class</td>\n",
       "      <td>Product</td>\n",
       "      <td>Reason for Recall</td>\n",
       "      <td>Pounds Recalled</td>\n",
       "    </tr>\n",
       "    <tr>\n",
       "      <th>Group 2</th>\n",
       "      <td>Recall Date</td>\n",
       "      <td>Recall Number</td>\n",
       "      <td>Recall Class</td>\n",
       "      <td>Product</td>\n",
       "      <td>Reason for Recall</td>\n",
       "      <td>Pounds Recalled</td>\n",
       "    </tr>\n",
       "    <tr>\n",
       "      <th>Group 3</th>\n",
       "      <td>Recall Number</td>\n",
       "      <td>Date Opened</td>\n",
       "      <td>Recall Class</td>\n",
       "      <td>Pounds Recalled</td>\n",
       "      <td>Product</td>\n",
       "      <td>Problem Type</td>\n",
       "    </tr>\n",
       "    <tr>\n",
       "      <th>Group 4</th>\n",
       "      <td>Recall Number</td>\n",
       "      <td>Open Date</td>\n",
       "      <td>Class</td>\n",
       "      <td>Pounds Recalled</td>\n",
       "      <td>Product</td>\n",
       "      <td>Problem Type</td>\n",
       "    </tr>\n",
       "  </tbody>\n",
       "</table>\n",
       "</div>"
      ],
      "text/plain": [
       "                 Col 0          Col 1         Col 2            Col 3  \\\n",
       "Group 1    Date Opened  Recall Number  Recall Class          Product   \n",
       "Group 2    Recall Date  Recall Number  Recall Class          Product   \n",
       "Group 3  Recall Number    Date Opened  Recall Class  Pounds Recalled   \n",
       "Group 4  Recall Number      Open Date         Class  Pounds Recalled   \n",
       "\n",
       "                     Col 4            Col 5  \n",
       "Group 1  Reason for Recall  Pounds Recalled  \n",
       "Group 2  Reason for Recall  Pounds Recalled  \n",
       "Group 3            Product     Problem Type  \n",
       "Group 4            Product     Problem Type  "
      ]
     },
     "execution_count": 8,
     "metadata": {},
     "output_type": "execute_result"
    }
   ],
   "source": [
    "# Create a new dataframe with the column names in the dataframe of each of those years to compare the columns naming across all groups\n",
    "\n",
    "cols_df = pd.DataFrame(data = [df_dict[years[0]].columns, df_dict[years[1]].columns, df_dict[years[2]].columns, df_dict[years[3]].columns], \n",
    "                      index = ['Group 1', 'Group 2', 'Group 3', 'Group 4'], \n",
    "                      columns = ['Col ' + str(i) for i in range(6)]\n",
    "                     )\n",
    "\n",
    "cols_df"
   ]
  },
  {
   "cell_type": "markdown",
   "metadata": {},
   "source": [
    "### Remarks (columns names)\n",
    "\n",
    "1. There are 3 different names for the column with the date the recall was initiated: Date Opened, Recall Date and Open Date. \n",
    "2. There are 2 column names for the class of the recall: Recall Class and Class\n",
    "3. There are are 2 different column names for the reason the recall was initiated: Reason for Recall and Problem Type."
   ]
  },
  {
   "cell_type": "markdown",
   "metadata": {},
   "source": [
    "### Solution\n",
    "\n",
    "1. The column with the date of the recall will be renamed Recall Date for the dataframes of groups 1, 3 and 4\n",
    "2. The column with the class of the recall will be renamed Recall Class for the dataframes of group 4\n",
    "3. The reason for the recall column will be renamed Recall Reason across all the dataframes"
   ]
  },
  {
   "cell_type": "markdown",
   "metadata": {},
   "source": [
    "### Remarks (columns positions)\n",
    "\n",
    "1. The column with the class of the recall is always the third column for all dataframes\n",
    "2. The date the recall was initiated is the 1rst column of the dataframes of groups 1 and 2 but the second column for groups 3 and 4\n",
    "3. The identifying number of the recall is the 2nd column for the dataframes of groups 1 and 2 but the first column for groups 3 and 4\n",
    "4. The product column is the 4th column of the dataframes of grous 1 and 2 but the 5th of dataframes of groups 3 and 4\n",
    "5. The Pounds Recalled column is the 4th column of the dataframes of groups 3 and 4 but the 6th of dataframes of groups 1 and 2\n",
    "6. The reason for the recall column is the 5th column of the dataframes of groups 1 and 2 but the 6th of dataframes of groups 3 and 4"
   ]
  },
  {
   "cell_type": "markdown",
   "metadata": {},
   "source": [
    "### Solution\n",
    "\n",
    "The columns will be reorganized across all dataframes to be in this order: Recall Number, Recall Date, Recall Class, Product, Recall Reason, Pounds Recalled"
   ]
  },
  {
   "cell_type": "markdown",
   "metadata": {},
   "source": [
    "### 2. Fixing column names and positions"
   ]
  },
  {
   "cell_type": "markdown",
   "metadata": {},
   "source": [
    " "
   ]
  },
  {
   "cell_type": "code",
   "execution_count": 9,
   "metadata": {},
   "outputs": [],
   "source": [
    "def fix_col_name_and_pos(year, names_changes):    \n",
    "    new_cols = ['Recall Number', 'Recall Date', 'Risk Level', 'Product', 'Recall Reason', 'Pounds Recalled']\n",
    "    \n",
    "    # Rename the columns that need to be renamed\n",
    "    df_dict[year] = df_dict[year].rename(names_changes, axis=1)\n",
    "    \n",
    "    # Specify the position that each column must occupy\n",
    "    df_dict[year] = df_dict[year][new_cols]"
   ]
  },
  {
   "cell_type": "code",
   "execution_count": 10,
   "metadata": {},
   "outputs": [],
   "source": [
    "cols_names_changes_dict = {1: {'Date Opened': 'Recall Date', 'Reason for Recall': 'Recall Reason', 'Recall Class': 'Risk Level'},\n",
    "                2: {'Reason for Recall': 'Recall Reason', 'Recall Class': 'Risk Level'},\n",
    "                3: {'Date Opened': 'Recall Date', 'Problem Type': 'Recall Reason', 'Recall Class': 'Risk Level'},\n",
    "                4: {'Open Date': 'Recall Date', 'Class': 'Risk Level', 'Problem Type': 'Recall Reason'}}\n",
    "\n",
    "for group, years in col_names_groups.items():\n",
    "    for year in years:\n",
    "        fix_col_name_and_pos(year, cols_names_changes_dict[group])"
   ]
  },
  {
   "cell_type": "code",
   "execution_count": 11,
   "metadata": {},
   "outputs": [
    {
     "data": {
      "text/html": [
       "<div>\n",
       "<style scoped>\n",
       "    .dataframe tbody tr th:only-of-type {\n",
       "        vertical-align: middle;\n",
       "    }\n",
       "\n",
       "    .dataframe tbody tr th {\n",
       "        vertical-align: top;\n",
       "    }\n",
       "\n",
       "    .dataframe thead th {\n",
       "        text-align: right;\n",
       "    }\n",
       "</style>\n",
       "<table border=\"1\" class=\"dataframe\">\n",
       "  <thead>\n",
       "    <tr style=\"text-align: right;\">\n",
       "      <th></th>\n",
       "      <th>0</th>\n",
       "      <th>1</th>\n",
       "      <th>2</th>\n",
       "      <th>3</th>\n",
       "      <th>4</th>\n",
       "      <th>5</th>\n",
       "    </tr>\n",
       "  </thead>\n",
       "  <tbody>\n",
       "    <tr>\n",
       "      <th>2005</th>\n",
       "      <td>Recall Number</td>\n",
       "      <td>Recall Date</td>\n",
       "      <td>Risk Level</td>\n",
       "      <td>Product</td>\n",
       "      <td>Recall Reason</td>\n",
       "      <td>Pounds Recalled</td>\n",
       "    </tr>\n",
       "    <tr>\n",
       "      <th>2006</th>\n",
       "      <td>Recall Number</td>\n",
       "      <td>Recall Date</td>\n",
       "      <td>Risk Level</td>\n",
       "      <td>Product</td>\n",
       "      <td>Recall Reason</td>\n",
       "      <td>Pounds Recalled</td>\n",
       "    </tr>\n",
       "    <tr>\n",
       "      <th>2007</th>\n",
       "      <td>Recall Number</td>\n",
       "      <td>Recall Date</td>\n",
       "      <td>Risk Level</td>\n",
       "      <td>Product</td>\n",
       "      <td>Recall Reason</td>\n",
       "      <td>Pounds Recalled</td>\n",
       "    </tr>\n",
       "    <tr>\n",
       "      <th>2008</th>\n",
       "      <td>Recall Number</td>\n",
       "      <td>Recall Date</td>\n",
       "      <td>Risk Level</td>\n",
       "      <td>Product</td>\n",
       "      <td>Recall Reason</td>\n",
       "      <td>Pounds Recalled</td>\n",
       "    </tr>\n",
       "    <tr>\n",
       "      <th>2009</th>\n",
       "      <td>Recall Number</td>\n",
       "      <td>Recall Date</td>\n",
       "      <td>Risk Level</td>\n",
       "      <td>Product</td>\n",
       "      <td>Recall Reason</td>\n",
       "      <td>Pounds Recalled</td>\n",
       "    </tr>\n",
       "    <tr>\n",
       "      <th>2010</th>\n",
       "      <td>Recall Number</td>\n",
       "      <td>Recall Date</td>\n",
       "      <td>Risk Level</td>\n",
       "      <td>Product</td>\n",
       "      <td>Recall Reason</td>\n",
       "      <td>Pounds Recalled</td>\n",
       "    </tr>\n",
       "    <tr>\n",
       "      <th>2011</th>\n",
       "      <td>Recall Number</td>\n",
       "      <td>Recall Date</td>\n",
       "      <td>Risk Level</td>\n",
       "      <td>Product</td>\n",
       "      <td>Recall Reason</td>\n",
       "      <td>Pounds Recalled</td>\n",
       "    </tr>\n",
       "    <tr>\n",
       "      <th>2012</th>\n",
       "      <td>Recall Number</td>\n",
       "      <td>Recall Date</td>\n",
       "      <td>Risk Level</td>\n",
       "      <td>Product</td>\n",
       "      <td>Recall Reason</td>\n",
       "      <td>Pounds Recalled</td>\n",
       "    </tr>\n",
       "    <tr>\n",
       "      <th>2013</th>\n",
       "      <td>Recall Number</td>\n",
       "      <td>Recall Date</td>\n",
       "      <td>Risk Level</td>\n",
       "      <td>Product</td>\n",
       "      <td>Recall Reason</td>\n",
       "      <td>Pounds Recalled</td>\n",
       "    </tr>\n",
       "    <tr>\n",
       "      <th>2014</th>\n",
       "      <td>Recall Number</td>\n",
       "      <td>Recall Date</td>\n",
       "      <td>Risk Level</td>\n",
       "      <td>Product</td>\n",
       "      <td>Recall Reason</td>\n",
       "      <td>Pounds Recalled</td>\n",
       "    </tr>\n",
       "    <tr>\n",
       "      <th>2015</th>\n",
       "      <td>Recall Number</td>\n",
       "      <td>Recall Date</td>\n",
       "      <td>Risk Level</td>\n",
       "      <td>Product</td>\n",
       "      <td>Recall Reason</td>\n",
       "      <td>Pounds Recalled</td>\n",
       "    </tr>\n",
       "    <tr>\n",
       "      <th>2016</th>\n",
       "      <td>Recall Number</td>\n",
       "      <td>Recall Date</td>\n",
       "      <td>Risk Level</td>\n",
       "      <td>Product</td>\n",
       "      <td>Recall Reason</td>\n",
       "      <td>Pounds Recalled</td>\n",
       "    </tr>\n",
       "    <tr>\n",
       "      <th>2017</th>\n",
       "      <td>Recall Number</td>\n",
       "      <td>Recall Date</td>\n",
       "      <td>Risk Level</td>\n",
       "      <td>Product</td>\n",
       "      <td>Recall Reason</td>\n",
       "      <td>Pounds Recalled</td>\n",
       "    </tr>\n",
       "    <tr>\n",
       "      <th>2018</th>\n",
       "      <td>Recall Number</td>\n",
       "      <td>Recall Date</td>\n",
       "      <td>Risk Level</td>\n",
       "      <td>Product</td>\n",
       "      <td>Recall Reason</td>\n",
       "      <td>Pounds Recalled</td>\n",
       "    </tr>\n",
       "  </tbody>\n",
       "</table>\n",
       "</div>"
      ],
      "text/plain": [
       "                  0            1           2        3              4  \\\n",
       "2005  Recall Number  Recall Date  Risk Level  Product  Recall Reason   \n",
       "2006  Recall Number  Recall Date  Risk Level  Product  Recall Reason   \n",
       "2007  Recall Number  Recall Date  Risk Level  Product  Recall Reason   \n",
       "2008  Recall Number  Recall Date  Risk Level  Product  Recall Reason   \n",
       "2009  Recall Number  Recall Date  Risk Level  Product  Recall Reason   \n",
       "2010  Recall Number  Recall Date  Risk Level  Product  Recall Reason   \n",
       "2011  Recall Number  Recall Date  Risk Level  Product  Recall Reason   \n",
       "2012  Recall Number  Recall Date  Risk Level  Product  Recall Reason   \n",
       "2013  Recall Number  Recall Date  Risk Level  Product  Recall Reason   \n",
       "2014  Recall Number  Recall Date  Risk Level  Product  Recall Reason   \n",
       "2015  Recall Number  Recall Date  Risk Level  Product  Recall Reason   \n",
       "2016  Recall Number  Recall Date  Risk Level  Product  Recall Reason   \n",
       "2017  Recall Number  Recall Date  Risk Level  Product  Recall Reason   \n",
       "2018  Recall Number  Recall Date  Risk Level  Product  Recall Reason   \n",
       "\n",
       "                    5  \n",
       "2005  Pounds Recalled  \n",
       "2006  Pounds Recalled  \n",
       "2007  Pounds Recalled  \n",
       "2008  Pounds Recalled  \n",
       "2009  Pounds Recalled  \n",
       "2010  Pounds Recalled  \n",
       "2011  Pounds Recalled  \n",
       "2012  Pounds Recalled  \n",
       "2013  Pounds Recalled  \n",
       "2014  Pounds Recalled  \n",
       "2015  Pounds Recalled  \n",
       "2016  Pounds Recalled  \n",
       "2017  Pounds Recalled  \n",
       "2018  Pounds Recalled  "
      ]
     },
     "execution_count": 11,
     "metadata": {},
     "output_type": "execute_result"
    }
   ],
   "source": [
    "cols_names_by_df = helper.display_columns_by_df(df_dict)\n",
    "cols_names_by_df"
   ]
  },
  {
   "cell_type": "markdown",
   "metadata": {},
   "source": [
    "The columns names and positions are now uniform across all the dataframes."
   ]
  },
  {
   "cell_type": "markdown",
   "metadata": {},
   "source": [
    " "
   ]
  },
  {
   "cell_type": "markdown",
   "metadata": {},
   "source": [
    "### 3. Investigate Columns Data Types"
   ]
  },
  {
   "cell_type": "markdown",
   "metadata": {},
   "source": [
    " "
   ]
  },
  {
   "cell_type": "code",
   "execution_count": null,
   "metadata": {},
   "outputs": [],
   "source": []
  },
  {
   "cell_type": "code",
   "execution_count": null,
   "metadata": {},
   "outputs": [],
   "source": []
  },
  {
   "cell_type": "code",
   "execution_count": null,
   "metadata": {},
   "outputs": [],
   "source": []
  },
  {
   "cell_type": "code",
   "execution_count": null,
   "metadata": {},
   "outputs": [],
   "source": []
  },
  {
   "cell_type": "code",
   "execution_count": null,
   "metadata": {},
   "outputs": [],
   "source": []
  },
  {
   "cell_type": "markdown",
   "metadata": {},
   "source": [
    " "
   ]
  },
  {
   "cell_type": "markdown",
   "metadata": {},
   "source": [
    "The entries of the Pounds Recalled column would be better off being of type integer."
   ]
  },
  {
   "cell_type": "code",
   "execution_count": 12,
   "metadata": {},
   "outputs": [],
   "source": [
    "class_names_meaning = {'I':'High', 'II':'Medium', 'III':'Low'}\n",
    "class_names_meaning_2016 = {1:'High', 2:'Medium', 3:'Low'}"
   ]
  },
  {
   "cell_type": "code",
   "execution_count": 13,
   "metadata": {},
   "outputs": [],
   "source": [
    "for year, df in df_dict.items():\n",
    "    if year=='2016':\n",
    "        df_dict[year]['Risk Level'] = df_dict[year]['Risk Level'].map(class_names_meaning_2016)\n",
    "    else:\n",
    "        df_dict[year]['Risk Level'] = df_dict[year]['Risk Level'].map(class_names_meaning)"
   ]
  },
  {
   "cell_type": "code",
   "execution_count": 14,
   "metadata": {},
   "outputs": [
    {
     "ename": "KeyError",
     "evalue": "'2016'",
     "output_type": "error",
     "traceback": [
      "\u001b[1;31m---------------------------------------------------------------------------\u001b[0m",
      "\u001b[1;31mKeyError\u001b[0m                                  Traceback (most recent call last)",
      "\u001b[1;32m<ipython-input-14-912563994bd7>\u001b[0m in \u001b[0;36m<module>\u001b[1;34m\u001b[0m\n\u001b[1;32m----> 1\u001b[1;33m \u001b[0mdf_dict\u001b[0m\u001b[1;33m[\u001b[0m\u001b[1;34m'2016'\u001b[0m\u001b[1;33m]\u001b[0m\u001b[1;33m.\u001b[0m\u001b[0minfo\u001b[0m\u001b[1;33m(\u001b[0m\u001b[1;33m)\u001b[0m\u001b[1;33m\u001b[0m\u001b[1;33m\u001b[0m\u001b[0m\n\u001b[0m",
      "\u001b[1;31mKeyError\u001b[0m: '2016'"
     ]
    }
   ],
   "source": [
    "df_dict['2016'].info()"
   ]
  },
  {
   "cell_type": "code",
   "execution_count": null,
   "metadata": {},
   "outputs": [],
   "source": [
    "df_dict['2016'].head()"
   ]
  },
  {
   "cell_type": "code",
   "execution_count": null,
   "metadata": {},
   "outputs": [],
   "source": []
  },
  {
   "cell_type": "markdown",
   "metadata": {},
   "source": [
    "From the two cells below I conclude that I don't need to know the product that was recalled. I, however, am extremely interested in the type of product it is. Beef? Pork? Poultry? This is going to require some substantial investigating to find how to get these into those categories."
   ]
  },
  {
   "cell_type": "code",
   "execution_count": null,
   "metadata": {},
   "outputs": [],
   "source": [
    "df = df_dict['2005']"
   ]
  },
  {
   "cell_type": "code",
   "execution_count": null,
   "metadata": {},
   "outputs": [],
   "source": [
    "df['Product'].value_counts()"
   ]
  },
  {
   "cell_type": "code",
   "execution_count": null,
   "metadata": {},
   "outputs": [],
   "source": []
  },
  {
   "cell_type": "code",
   "execution_count": null,
   "metadata": {},
   "outputs": [],
   "source": [
    "fr = df_dict[2006].dtypes\n",
    "fr"
   ]
  },
  {
   "cell_type": "code",
   "execution_count": null,
   "metadata": {},
   "outputs": [],
   "source": []
  },
  {
   "cell_type": "code",
   "execution_count": null,
   "metadata": {},
   "outputs": [],
   "source": []
  },
  {
   "cell_type": "code",
   "execution_count": null,
   "metadata": {},
   "outputs": [],
   "source": []
  },
  {
   "cell_type": "markdown",
   "metadata": {},
   "source": [
    "## Before doing this, work on those dtype for the columns!"
   ]
  },
  {
   "cell_type": "code",
   "execution_count": null,
   "metadata": {},
   "outputs": [],
   "source": [
    "rcl_rsn_dict = {}\n",
    "\n",
    "def get_rcl_rsn_vc(df_dict):\n",
    "    for year, df in df_dict.items():\n",
    "        key = 'rcl_rsn_' + year\n",
    "        df = pd.DataFrame(df['Recall Reason'].value_counts())\n",
    "        df = df.transpose()\n",
    "        df = df.rename({'Recall Reason': year})\n",
    "        rcl_rsn_dict[key] = df"
   ]
  },
  {
   "cell_type": "code",
   "execution_count": null,
   "metadata": {},
   "outputs": [],
   "source": [
    "get_rcl_rsn_vc(df_dict)"
   ]
  },
  {
   "cell_type": "code",
   "execution_count": null,
   "metadata": {},
   "outputs": [],
   "source": [
    "vc_dfs = list(rcl_rsn_dict.values())"
   ]
  },
  {
   "cell_type": "code",
   "execution_count": null,
   "metadata": {},
   "outputs": [],
   "source": [
    "recall_reasons_combined = pd.concat(vc_dfs, sort=False)"
   ]
  },
  {
   "cell_type": "code",
   "execution_count": null,
   "metadata": {},
   "outputs": [],
   "source": [
    "recall_reasons_combined"
   ]
  },
  {
   "cell_type": "code",
   "execution_count": null,
   "metadata": {},
   "outputs": [],
   "source": [
    "recall_reasons_combined = recall_reasons_combined.fillna(0)"
   ]
  },
  {
   "cell_type": "code",
   "execution_count": null,
   "metadata": {},
   "outputs": [],
   "source": [
    "recall_reasons_combined = recall_reasons_combined.astype('int64')"
   ]
  },
  {
   "cell_type": "code",
   "execution_count": null,
   "metadata": {},
   "outputs": [],
   "source": [
    "recall_reasons_combined"
   ]
  },
  {
   "cell_type": "code",
   "execution_count": null,
   "metadata": {},
   "outputs": [],
   "source": [
    "recall_2005['Recall Class'].value_counts()"
   ]
  },
  {
   "cell_type": "markdown",
   "metadata": {},
   "source": [
    "  "
   ]
  },
  {
   "cell_type": "markdown",
   "metadata": {},
   "source": [
    "   "
   ]
  },
  {
   "cell_type": "code",
   "execution_count": null,
   "metadata": {},
   "outputs": [],
   "source": []
  }
 ],
 "metadata": {
  "kernelspec": {
   "display_name": "Python 3",
   "language": "python",
   "name": "python3"
  },
  "language_info": {
   "codemirror_mode": {
    "name": "ipython",
    "version": 3
   },
   "file_extension": ".py",
   "mimetype": "text/x-python",
   "name": "python",
   "nbconvert_exporter": "python",
   "pygments_lexer": "ipython3",
   "version": "3.7.3"
  }
 },
 "nbformat": 4,
 "nbformat_minor": 2
}
